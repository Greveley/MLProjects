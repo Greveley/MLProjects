{
 "metadata": {
  "language_info": {
   "codemirror_mode": {
    "name": "ipython",
    "version": 3
   },
   "file_extension": ".py",
   "mimetype": "text/x-python",
   "name": "python",
   "nbconvert_exporter": "python",
   "pygments_lexer": "ipython3",
   "version": "3.7.9-final"
  },
  "orig_nbformat": 2,
  "kernelspec": {
   "name": "python3",
   "display_name": "Python 3"
  }
 },
 "nbformat": 4,
 "nbformat_minor": 2,
 "cells": [
  {
   "cell_type": "code",
   "execution_count": 1,
   "metadata": {},
   "outputs": [],
   "source": [
    "import numpy as np\n",
    "import pandas as pd \n",
    "import matplotlib.pyplot as plt\n",
    "import seaborn as sns"
   ]
  },
  {
   "cell_type": "code",
   "execution_count": 2,
   "metadata": {},
   "outputs": [],
   "source": [
    "# Importing data\n",
    "df_info = pd.read_csv('data/lending_club_info.csv',index_col='LoanStatNew')\n",
    "df = pd.read_csv('data/lending_club_loan_two.csv')"
   ]
  },
  {
   "cell_type": "code",
   "execution_count": 3,
   "metadata": {},
   "outputs": [],
   "source": [
    " # Generating a binary 0/1 column in the dataframe for the label\n",
    "df['loan_repaid'] = np.where(df['loan_status']== 'Fully Paid', 1 , 0)"
   ]
  },
  {
   "cell_type": "code",
   "execution_count": 4,
   "metadata": {},
   "outputs": [
    {
     "output_type": "stream",
     "name": "stdout",
     "text": [
      "<class 'pandas.core.frame.DataFrame'>\nRangeIndex: 396030 entries, 0 to 396029\nData columns (total 28 columns):\n #   Column                Non-Null Count   Dtype  \n---  ------                --------------   -----  \n 0   loan_amnt             396030 non-null  float64\n 1   term                  396030 non-null  object \n 2   int_rate              396030 non-null  float64\n 3   installment           396030 non-null  float64\n 4   grade                 396030 non-null  object \n 5   sub_grade             396030 non-null  object \n 6   emp_title             373103 non-null  object \n 7   emp_length            377729 non-null  object \n 8   home_ownership        396030 non-null  object \n 9   annual_inc            396030 non-null  float64\n 10  verification_status   396030 non-null  object \n 11  issue_d               396030 non-null  object \n 12  loan_status           396030 non-null  object \n 13  purpose               396030 non-null  object \n 14  title                 394275 non-null  object \n 15  dti                   396030 non-null  float64\n 16  earliest_cr_line      396030 non-null  object \n 17  open_acc              396030 non-null  float64\n 18  pub_rec               396030 non-null  float64\n 19  revol_bal             396030 non-null  float64\n 20  revol_util            395754 non-null  float64\n 21  total_acc             396030 non-null  float64\n 22  initial_list_status   396030 non-null  object \n 23  application_type      396030 non-null  object \n 24  mort_acc              358235 non-null  float64\n 25  pub_rec_bankruptcies  395495 non-null  float64\n 26  address               396030 non-null  object \n 27  loan_repaid           396030 non-null  int64  \ndtypes: float64(12), int64(1), object(15)\nmemory usage: 84.6+ MB\n"
     ]
    }
   ],
   "source": [
    "df.info()"
   ]
  },
  {
   "cell_type": "code",
   "execution_count": 6,
   "metadata": {},
   "outputs": [
    {
     "output_type": "execute_result",
     "data": {
      "text/plain": [
       "   loan_amnt        term  int_rate  installment grade sub_grade  \\\n",
       "0    10000.0   36 months     11.44       329.48     B        B4   \n",
       "1     8000.0   36 months     11.99       265.68     B        B5   \n",
       "2    15600.0   36 months     10.49       506.97     B        B3   \n",
       "3     7200.0   36 months      6.49       220.65     A        A2   \n",
       "4    24375.0   60 months     17.27       609.33     C        C5   \n",
       "\n",
       "                 emp_title emp_length home_ownership  annual_inc  ... pub_rec  \\\n",
       "0                Marketing  10+ years           RENT    117000.0  ...     0.0   \n",
       "1          Credit analyst     4 years       MORTGAGE     65000.0  ...     0.0   \n",
       "2             Statistician   < 1 year           RENT     43057.0  ...     0.0   \n",
       "3          Client Advocate    6 years           RENT     54000.0  ...     0.0   \n",
       "4  Destiny Management Inc.    9 years       MORTGAGE     55000.0  ...     0.0   \n",
       "\n",
       "  revol_bal revol_util total_acc initial_list_status  application_type  \\\n",
       "0   36369.0       41.8      25.0                   w        INDIVIDUAL   \n",
       "1   20131.0       53.3      27.0                   f        INDIVIDUAL   \n",
       "2   11987.0       92.2      26.0                   f        INDIVIDUAL   \n",
       "3    5472.0       21.5      13.0                   f        INDIVIDUAL   \n",
       "4   24584.0       69.8      43.0                   f        INDIVIDUAL   \n",
       "\n",
       "  mort_acc  pub_rec_bankruptcies  \\\n",
       "0      0.0                   0.0   \n",
       "1      3.0                   0.0   \n",
       "2      0.0                   0.0   \n",
       "3      0.0                   0.0   \n",
       "4      1.0                   0.0   \n",
       "\n",
       "                                           address  loan_repaid  \n",
       "0     0174 Michelle Gateway\\nMendozaberg, OK 22690            1  \n",
       "1  1076 Carney Fort Apt. 347\\nLoganmouth, SD 05113            1  \n",
       "2  87025 Mark Dale Apt. 269\\nNew Sabrina, WV 05113            1  \n",
       "3            823 Reid Ford\\nDelacruzside, MA 00813            1  \n",
       "4             679 Luna Roads\\nGreggshire, VA 11650            0  \n",
       "\n",
       "[5 rows x 28 columns]"
      ],
      "text/html": "<div>\n<style scoped>\n    .dataframe tbody tr th:only-of-type {\n        vertical-align: middle;\n    }\n\n    .dataframe tbody tr th {\n        vertical-align: top;\n    }\n\n    .dataframe thead th {\n        text-align: right;\n    }\n</style>\n<table border=\"1\" class=\"dataframe\">\n  <thead>\n    <tr style=\"text-align: right;\">\n      <th></th>\n      <th>loan_amnt</th>\n      <th>term</th>\n      <th>int_rate</th>\n      <th>installment</th>\n      <th>grade</th>\n      <th>sub_grade</th>\n      <th>emp_title</th>\n      <th>emp_length</th>\n      <th>home_ownership</th>\n      <th>annual_inc</th>\n      <th>...</th>\n      <th>pub_rec</th>\n      <th>revol_bal</th>\n      <th>revol_util</th>\n      <th>total_acc</th>\n      <th>initial_list_status</th>\n      <th>application_type</th>\n      <th>mort_acc</th>\n      <th>pub_rec_bankruptcies</th>\n      <th>address</th>\n      <th>loan_repaid</th>\n    </tr>\n  </thead>\n  <tbody>\n    <tr>\n      <th>0</th>\n      <td>10000.0</td>\n      <td>36 months</td>\n      <td>11.44</td>\n      <td>329.48</td>\n      <td>B</td>\n      <td>B4</td>\n      <td>Marketing</td>\n      <td>10+ years</td>\n      <td>RENT</td>\n      <td>117000.0</td>\n      <td>...</td>\n      <td>0.0</td>\n      <td>36369.0</td>\n      <td>41.8</td>\n      <td>25.0</td>\n      <td>w</td>\n      <td>INDIVIDUAL</td>\n      <td>0.0</td>\n      <td>0.0</td>\n      <td>0174 Michelle Gateway\\nMendozaberg, OK 22690</td>\n      <td>1</td>\n    </tr>\n    <tr>\n      <th>1</th>\n      <td>8000.0</td>\n      <td>36 months</td>\n      <td>11.99</td>\n      <td>265.68</td>\n      <td>B</td>\n      <td>B5</td>\n      <td>Credit analyst</td>\n      <td>4 years</td>\n      <td>MORTGAGE</td>\n      <td>65000.0</td>\n      <td>...</td>\n      <td>0.0</td>\n      <td>20131.0</td>\n      <td>53.3</td>\n      <td>27.0</td>\n      <td>f</td>\n      <td>INDIVIDUAL</td>\n      <td>3.0</td>\n      <td>0.0</td>\n      <td>1076 Carney Fort Apt. 347\\nLoganmouth, SD 05113</td>\n      <td>1</td>\n    </tr>\n    <tr>\n      <th>2</th>\n      <td>15600.0</td>\n      <td>36 months</td>\n      <td>10.49</td>\n      <td>506.97</td>\n      <td>B</td>\n      <td>B3</td>\n      <td>Statistician</td>\n      <td>&lt; 1 year</td>\n      <td>RENT</td>\n      <td>43057.0</td>\n      <td>...</td>\n      <td>0.0</td>\n      <td>11987.0</td>\n      <td>92.2</td>\n      <td>26.0</td>\n      <td>f</td>\n      <td>INDIVIDUAL</td>\n      <td>0.0</td>\n      <td>0.0</td>\n      <td>87025 Mark Dale Apt. 269\\nNew Sabrina, WV 05113</td>\n      <td>1</td>\n    </tr>\n    <tr>\n      <th>3</th>\n      <td>7200.0</td>\n      <td>36 months</td>\n      <td>6.49</td>\n      <td>220.65</td>\n      <td>A</td>\n      <td>A2</td>\n      <td>Client Advocate</td>\n      <td>6 years</td>\n      <td>RENT</td>\n      <td>54000.0</td>\n      <td>...</td>\n      <td>0.0</td>\n      <td>5472.0</td>\n      <td>21.5</td>\n      <td>13.0</td>\n      <td>f</td>\n      <td>INDIVIDUAL</td>\n      <td>0.0</td>\n      <td>0.0</td>\n      <td>823 Reid Ford\\nDelacruzside, MA 00813</td>\n      <td>1</td>\n    </tr>\n    <tr>\n      <th>4</th>\n      <td>24375.0</td>\n      <td>60 months</td>\n      <td>17.27</td>\n      <td>609.33</td>\n      <td>C</td>\n      <td>C5</td>\n      <td>Destiny Management Inc.</td>\n      <td>9 years</td>\n      <td>MORTGAGE</td>\n      <td>55000.0</td>\n      <td>...</td>\n      <td>0.0</td>\n      <td>24584.0</td>\n      <td>69.8</td>\n      <td>43.0</td>\n      <td>f</td>\n      <td>INDIVIDUAL</td>\n      <td>1.0</td>\n      <td>0.0</td>\n      <td>679 Luna Roads\\nGreggshire, VA 11650</td>\n      <td>0</td>\n    </tr>\n  </tbody>\n</table>\n<p>5 rows × 28 columns</p>\n</div>"
     },
     "metadata": {},
     "execution_count": 6
    }
   ],
   "source": [
    "df.head()"
   ]
  },
  {
   "source": [
    "Goals of this is to:   \n",
    "- Fix missing data\n",
    "- Remove unwanted/not needed features from data\n",
    "- Remove duplicated features \n",
    "- Convert categorical features to integers (dummy variables)"
   ],
   "cell_type": "markdown",
   "metadata": {}
  },
  {
   "source": [
    "---------------------- Dealing with missing data -----------------------------"
   ],
   "cell_type": "markdown",
   "metadata": {}
  },
  {
   "cell_type": "code",
   "execution_count": 7,
   "metadata": {},
   "outputs": [
    {
     "output_type": "execute_result",
     "data": {
      "text/plain": [
       "loan_amnt                   0\n",
       "term                        0\n",
       "int_rate                    0\n",
       "installment                 0\n",
       "grade                       0\n",
       "sub_grade                   0\n",
       "emp_title               22927\n",
       "emp_length              18301\n",
       "home_ownership              0\n",
       "annual_inc                  0\n",
       "verification_status         0\n",
       "issue_d                     0\n",
       "loan_status                 0\n",
       "purpose                     0\n",
       "title                    1755\n",
       "dti                         0\n",
       "earliest_cr_line            0\n",
       "open_acc                    0\n",
       "pub_rec                     0\n",
       "revol_bal                   0\n",
       "revol_util                276\n",
       "total_acc                   0\n",
       "initial_list_status         0\n",
       "application_type            0\n",
       "mort_acc                37795\n",
       "pub_rec_bankruptcies      535\n",
       "address                     0\n",
       "loan_repaid                 0\n",
       "dtype: int64"
      ]
     },
     "metadata": {},
     "execution_count": 7
    }
   ],
   "source": [
    "# Finding out which features have missing data\n",
    "df.isnull().sum()"
   ]
  },
  {
   "cell_type": "code",
   "execution_count": null,
   "metadata": {},
   "outputs": [],
   "source": []
  }
 ]
}