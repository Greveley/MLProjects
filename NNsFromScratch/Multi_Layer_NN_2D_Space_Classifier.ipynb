{
 "cells": [
  {
   "cell_type": "code",
   "execution_count": 1,
   "metadata": {},
   "outputs": [],
   "source": [
    "# This code will extend the previous perceptron example to use multi layer NN to solve the problem"
   ]
  },
  {
   "cell_type": "code",
   "execution_count": null,
   "metadata": {},
   "outputs": [],
   "source": []
  },
  {
   "cell_type": "code",
   "execution_count": 2,
   "metadata": {},
   "outputs": [],
   "source": [
    "import numpy as np \n",
    "import matplotlib.pyplot as plt\n",
    "plt.rcParams[\"figure.figsize\"] = (20,10)"
   ]
  },
  {
   "cell_type": "code",
   "execution_count": 3,
   "metadata": {},
   "outputs": [
    {
     "data": {
      "text/plain": [
       "'In general there are X stages we go through to make a fully functional neural network:\\n1) Initialise the network \\n2) Forward Propagate\\n3) Back Propagate the error\\n4) Train Network (i.e. update the weights with training data)\\n5) Predict on test data\\n'"
      ]
     },
     "execution_count": 3,
     "metadata": {},
     "output_type": "execute_result"
    }
   ],
   "source": [
    "# Very simple neural network that works on classifying things from the wheat and seeds dataset \n",
    "\"\"\"In general there are X stages we go through to make a fully functional neural network:\n",
    "1) Initialise the network \n",
    "2) Forward Propagate\n",
    "3) Back Propagate the error\n",
    "4) Train Network (i.e. update the weights with training data)\n",
    "5) Predict on test data\n",
    "\"\"\"\n"
   ]
  },
  {
   "cell_type": "code",
   "execution_count": 4,
   "metadata": {},
   "outputs": [],
   "source": [
    "# define input features\n",
    "np.random.seed(1)\n",
    "num = 10000\n",
    "# Creating a random array of x , y points \n",
    "x = np.random.randn(num)*50\n",
    "y = np.random.randn(num)*50\n",
    "# Defining a cut off line to split the points into two sections \n",
    "x_line = np.linspace(-150,150,x.size)\n",
    "y_line = (1.5*x_line-25)"
   ]
  },
  {
   "cell_type": "code",
   "execution_count": 5,
   "metadata": {},
   "outputs": [],
   "source": [
    "# Generating a third column based on the position of the points on the 2D grid\n",
    "u = np.zeros((len(x),1))\n",
    "u[(1.5*x-25 > y)] = 1"
   ]
  },
  {
   "cell_type": "code",
   "execution_count": 6,
   "metadata": {},
   "outputs": [],
   "source": [
    "# Concatenating x,y,z into the fully labelled dataset\n",
    "x = x.reshape(x.size,1)\n",
    "y = y.reshape(y.size,1)\n",
    "u = u.reshape(u.size,1)\n",
    "data = np.concatenate([x,y,u],axis=1)\n",
    "# Extracting test data from the full dataset\n",
    "# Specifying a percentage of the full dataset\n",
    "train_perc = 0.1\n",
    "# Extracting training data\n",
    "train_data = data[0:round(len(data)*train_perc/100),:]\n",
    "# Extracting test data\n",
    "test_data = data[round(len(data)*train_perc/100)::,:]"
   ]
  },
  {
   "cell_type": "code",
   "execution_count": 7,
   "metadata": {},
   "outputs": [
    {
     "data": {
      "text/plain": [
       "<matplotlib.legend.Legend at 0x11b833da0>"
      ]
     },
     "execution_count": 7,
     "metadata": {},
     "output_type": "execute_result"
    },
    {
     "data": {
      "image/png": "[encoded data removed]",
      "text/plain": [
       "<Figure size 432x288 with 1 Axes>"
      ]
     },
     "metadata": {
      "needs_background": "light"
     },
     "output_type": "display_data"
    }
   ],
   "source": [
    "# Plotting training data\n",
    "# Points in group A\n",
    "td1 = train_data[(train_data[:,2]==0)] \n",
    "# Points in group B \n",
    "td2 = train_data[(train_data[:,2]==1)] \n",
    "\n",
    "# Plotting \n",
    "plt.scatter(x,y,label='Whole Data Set')\n",
    "plt.scatter(td1[:,0],td1[:,1],label='Training Points A')\n",
    "plt.scatter(td2[:,0],td2[:,1],label='Training Points B')\n",
    "plt.plot(x_line,y_line,'b',linewidth=5)\n",
    "plt.xlabel('X')\n",
    "plt.ylabel('Y')\n",
    "plt.legend()"
   ]
  },
  {
   "cell_type": "code",
   "execution_count": 8,
   "metadata": {},
   "outputs": [],
   "source": [
    "# Extracting input features from test data (i.e. x,y locations)\n",
    "input_feats = train_data[:,(0,1)].reshape(2,len(train_data))"
   ]
  },
  {
   "cell_type": "code",
   "execution_count": 34,
   "metadata": {},
   "outputs": [
    {
     "data": {
      "text/plain": [
       "(2, 10)"
      ]
     },
     "execution_count": 34,
     "metadata": {},
     "output_type": "execute_result"
    }
   ],
   "source": [
    "input_feats.shape"
   ]
  },
  {
   "cell_type": "code",
   "execution_count": 9,
   "metadata": {},
   "outputs": [],
   "source": [
    "# Defining expected outputs (i.e. 0/1 depending on where the points lie)\n",
    "target = train_data[:,2]\n",
    "target = target.reshape(1,input_feats.shape[1])"
   ]
  },
  {
   "cell_type": "code",
   "execution_count": 46,
   "metadata": {},
   "outputs": [],
   "source": [
    "# Initialising network \n",
    "def init_network(structure):\n",
    "    \n",
    "    np.random.seed(1)\n",
    "    \n",
    "    \"\"\"Takes in 4 variables: Number of inputs, number of neurons in hidden layer 1, number of neurons in hidden\n",
    "       layer 2, number of outputs and creates the weights and bias matrices\"\"\"\n",
    "    # Number of layers\n",
    "    layers = len(structure)\n",
    "    # Creating weights and biases lists to be filled in loop \n",
    "    weights = []\n",
    "    biases = []\n",
    "    \n",
    "    for i in range(1,layers):\n",
    "        # Creating weights and biases matrices for each layer\n",
    "        weights.append([np.random.randn(structure[i-1], structure[i])])\n",
    "        biases.append([np.random.randn(structure[i])])\n",
    "\n",
    "        # Fixing shapes of arrays in the list \n",
    "        weights[i-1] = np.array(weights[i-1]).reshape(structure[i-1], structure[i])\n",
    "        biases[i-1] = np.array(biases[i-1]).reshape(1,structure[i])\n",
    "\n",
    "    print (\"WEIGHTS :\")\n",
    "    print (weights)\n",
    "    print (\"BIASES : \")\n",
    "    print (biases)\n",
    "    \n",
    "    return (weights, biases)"
   ]
  },
  {
   "cell_type": "code",
   "execution_count": 47,
   "metadata": {},
   "outputs": [],
   "source": [
    "# Creating NN structure\n",
    "n_in = 2 # Number of input Ns\n",
    "n_hid = 5 # Number of Ns in hidden layer 1\n",
    "n_hid2 = 3 # Number of Ns in hidden layer 2\n",
    "n_out = 1 # Number of Ns in output layer\n",
    "\n",
    "# Structure list for the looping through in FF and BP\n",
    "structure = [n_in, n_hid, n_hid2, n_out]"
   ]
  },
  {
   "cell_type": "code",
   "execution_count": 48,
   "metadata": {},
   "outputs": [
    {
     "name": "stdout",
     "output_type": "stream",
     "text": [
      "WEIGHTS :\n",
      "[array([[ 1.62434536, -0.61175641, -0.52817175, -1.07296862,  0.86540763],\n",
      "       [-2.3015387 ,  1.74481176, -0.7612069 ,  0.3190391 , -0.24937038]]), array([[-1.09989127, -0.17242821, -0.87785842],\n",
      "       [ 0.04221375,  0.58281521, -1.10061918],\n",
      "       [ 1.14472371,  0.90159072,  0.50249434],\n",
      "       [ 0.90085595, -0.68372786, -0.12289023],\n",
      "       [-0.93576943, -0.26788808,  0.53035547]]), array([[-0.84520564],\n",
      "       [-0.67124613],\n",
      "       [-0.0126646 ]])]\n",
      "BIASES : \n",
      "[array([[ 1.46210794, -2.06014071, -0.3224172 , -0.38405435,  1.13376944]]), array([[-0.69166075, -0.39675353, -0.6871727 ]]), array([[-1.11731035]])]\n"
     ]
    }
   ],
   "source": [
    "test_weights, test_biases = init_network(structure)"
   ]
  },
  {
   "cell_type": "code",
   "execution_count": 49,
   "metadata": {},
   "outputs": [],
   "source": [
    "# Sigmoid activation function \n",
    "def sigmoid(X): \n",
    "    out = 1/(1+np.exp(-X))\n",
    "    return out "
   ]
  },
  {
   "cell_type": "code",
   "execution_count": 50,
   "metadata": {},
   "outputs": [],
   "source": [
    "# Derivative of sigmoid activation function (used in the gradient descent back propagation)\n",
    "def sigmoid_der(X):  \n",
    "    out = sigmoid(X)*(1-sigmoid(X))\n",
    "    return out"
   ]
  },
  {
   "cell_type": "code",
   "execution_count": 51,
   "metadata": {},
   "outputs": [],
   "source": [
    "# Feed forward \n",
    "def feed_forward(input_feats, weights, biases, structure):\n",
    "    \n",
    "    \"\"\"Feed forward part of the NN. Outputs 3 things: \n",
    "     - y_hat = output of final layer \n",
    "     - a = activated outputs of all layers \n",
    "     - z = raw outputs of all layers\"\"\"\n",
    "    \n",
    "    layers = len(structure)\n",
    "    num = input_feats.shape[1]\n",
    "    # Creating a and z lists to be filled in loop\n",
    "    a = []\n",
    "    z = []\n",
    "    layer_output = input_feats\n",
    "    for i in range(0,layers-1):\n",
    "        z.append(np.dot(layer_output,weights[i])+biases[i])\n",
    "        # Fixing shapes of arrays in the list \n",
    "        #z[i] = np.array(z[i]).reshape(structure[i+1],num)\n",
    "        a.append(sigmoid(z[i]))\n",
    "        # Fixing shapes of arrays in the list \n",
    "        #a[i] = np.array(a[i]).reshape(structure[i+1],num)\n",
    "        layer_output = a[i]\n",
    "        \n",
    "    return (layer_output,a,z)"
   ]
  },
  {
   "cell_type": "code",
   "execution_count": 52,
   "metadata": {},
   "outputs": [
    {
     "ename": "ValueError",
     "evalue": "shapes (2,10) and (2,5) not aligned: 10 (dim 1) != 2 (dim 0)",
     "output_type": "error",
     "traceback": [
      "\u001b[0;31m---------------------------------------------------------------------------\u001b[0m",
      "\u001b[0;31mValueError\u001b[0m                                Traceback (most recent call last)",
      "\u001b[0;32m<ipython-input-52-e93e53382fa4>\u001b[0m in \u001b[0;36m<module>\u001b[0;34m\u001b[0m\n\u001b[0;32m----> 1\u001b[0;31m \u001b[0my_hat\u001b[0m\u001b[0;34m,\u001b[0m \u001b[0ma\u001b[0m\u001b[0;34m,\u001b[0m \u001b[0mz\u001b[0m \u001b[0;34m=\u001b[0m \u001b[0mfeed_forward\u001b[0m\u001b[0;34m(\u001b[0m\u001b[0minput_feats\u001b[0m\u001b[0;34m,\u001b[0m \u001b[0mtest_weights\u001b[0m\u001b[0;34m,\u001b[0m \u001b[0mtest_biases\u001b[0m\u001b[0;34m,\u001b[0m \u001b[0mstructure\u001b[0m\u001b[0;34m)\u001b[0m\u001b[0;34m\u001b[0m\u001b[0;34m\u001b[0m\u001b[0m\n\u001b[0m",
      "\u001b[0;32m<ipython-input-51-b8679c60e6b7>\u001b[0m in \u001b[0;36mfeed_forward\u001b[0;34m(input_feats, weights, biases, structure)\u001b[0m\n\u001b[1;32m     14\u001b[0m     \u001b[0mlayer_output\u001b[0m \u001b[0;34m=\u001b[0m \u001b[0minput_feats\u001b[0m\u001b[0;34m\u001b[0m\u001b[0;34m\u001b[0m\u001b[0m\n\u001b[1;32m     15\u001b[0m     \u001b[0;32mfor\u001b[0m \u001b[0mi\u001b[0m \u001b[0;32min\u001b[0m \u001b[0mrange\u001b[0m\u001b[0;34m(\u001b[0m\u001b[0;36m0\u001b[0m\u001b[0;34m,\u001b[0m\u001b[0mlayers\u001b[0m\u001b[0;34m-\u001b[0m\u001b[0;36m1\u001b[0m\u001b[0;34m)\u001b[0m\u001b[0;34m:\u001b[0m\u001b[0;34m\u001b[0m\u001b[0;34m\u001b[0m\u001b[0m\n\u001b[0;32m---> 16\u001b[0;31m         \u001b[0mz\u001b[0m\u001b[0;34m.\u001b[0m\u001b[0mappend\u001b[0m\u001b[0;34m(\u001b[0m\u001b[0mnp\u001b[0m\u001b[0;34m.\u001b[0m\u001b[0mdot\u001b[0m\u001b[0;34m(\u001b[0m\u001b[0mlayer_output\u001b[0m\u001b[0;34m,\u001b[0m\u001b[0mweights\u001b[0m\u001b[0;34m[\u001b[0m\u001b[0mi\u001b[0m\u001b[0;34m]\u001b[0m\u001b[0;34m)\u001b[0m\u001b[0;34m+\u001b[0m\u001b[0mbiases\u001b[0m\u001b[0;34m[\u001b[0m\u001b[0mi\u001b[0m\u001b[0;34m]\u001b[0m\u001b[0;34m)\u001b[0m\u001b[0;34m\u001b[0m\u001b[0;34m\u001b[0m\u001b[0m\n\u001b[0m\u001b[1;32m     17\u001b[0m         \u001b[0;31m# Fixing shapes of arrays in the list\u001b[0m\u001b[0;34m\u001b[0m\u001b[0;34m\u001b[0m\u001b[0;34m\u001b[0m\u001b[0m\n\u001b[1;32m     18\u001b[0m         \u001b[0;31m#z[i] = np.array(z[i]).reshape(structure[i+1],num)\u001b[0m\u001b[0;34m\u001b[0m\u001b[0;34m\u001b[0m\u001b[0;34m\u001b[0m\u001b[0m\n",
      "\u001b[0;31mValueError\u001b[0m: shapes (2,10) and (2,5) not aligned: 10 (dim 1) != 2 (dim 0)"
     ]
    }
   ],
   "source": [
    "y_hat, a, z = feed_forward(input_feats, test_weights, test_biases, structure)"
   ]
  },
  {
   "cell_type": "code",
   "execution_count": 18,
   "metadata": {},
   "outputs": [
    {
     "name": "stdout",
     "output_type": "stream",
     "text": [
      "[[0.12523256 0.15796157 0.15788107 0.12554727 0.14085028 0.15785576\n",
      "  0.14313883 0.14313873 0.14085028 0.14085027]]\n"
     ]
    }
   ],
   "source": [
    "print (y_hat)"
   ]
  },
  {
   "cell_type": "code",
   "execution_count": 19,
   "metadata": {},
   "outputs": [],
   "source": [
    "# Computing cost using MSE\n",
    "def compute_cost(y_hat, target):\n",
    "    num = len(y_hat)\n",
    "    print (y_hat)\n",
    "    print (target)\n",
    "    cost = np.sum(pow(y_hat-target,2))/num\n",
    "    print (cost)\n",
    "    return cost"
   ]
  },
  {
   "cell_type": "code",
   "execution_count": 20,
   "metadata": {},
   "outputs": [],
   "source": [
    "def back_propagation(a, target, structure, weights, biases, input_feats):    \n",
    "    \"\"\"Implementing the backpropagation\"\"\"\n",
    "    delta = np.zeros_like(weights)   \n",
    "    layer_error = np.zeros_like(weights)\n",
    "    num = input_feats.shape[1]\n",
    " \n",
    "    for i in reversed(range(0,len(structure)-1)):\n",
    "        layer_output = a[i]\n",
    "        # If its the last layer in the error in that layer = diff \n",
    "        if i == len(structure)-2: \n",
    "            # difference between yhat and y \n",
    "            layer_error[i] = (target - layer_output)\n",
    "            # Derivative to backward propagate\n",
    "            delta[i] = (layer_error[i] * sigmoid_der(layer_output))\n",
    "        # If the layer isnt the last layer the delta is slightly different \n",
    "        else: \n",
    "            layer_error[i] = (np.dot(weights[i+1].T,delta[i+1]))\n",
    "            delta[i] = (layer_error[i] * sigmoid_der(layer_output))\n",
    "\n",
    "    return delta"
   ]
  },
  {
   "cell_type": "code",
   "execution_count": 21,
   "metadata": {},
   "outputs": [],
   "source": [
    "delta = back_propagation(a, target, structure, test_weights, test_biases, input_feats)"
   ]
  },
  {
   "cell_type": "code",
   "execution_count": 26,
   "metadata": {},
   "outputs": [],
   "source": [
    "def update_params(weights, bias, delta, structure, input_feats, a, l_rate):\n",
    "    \"\"\"Inputs: weights, biases, delta (gradient), structure of network, input features, a (output of each layer)\n",
    "    , learning rate)\n",
    "    Outputs: weights, bias\"\"\"\n",
    "    # Updating weights \n",
    "    for i in range(0,len(structure)-1):\n",
    "        if i == 0: \n",
    "            input_to_use = input_feats\n",
    "        else: \n",
    "            input_to_use = a[i-1]\n",
    "        # Update weights\n",
    "        weights[i] -= (np.dot(delta[i], input_to_use.T)*l_rate)\n",
    "        # Update bias\n",
    "        d_bias = np.sum(delta[i],axis=1).reshape(bias[i].shape)\n",
    "        bias[i] -= (d_bias*l_rate)\n",
    "    \n",
    "    return weights, bias"
   ]
  },
  {
   "cell_type": "code",
   "execution_count": 27,
   "metadata": {},
   "outputs": [],
   "source": [
    "def train(input_feats, weights, biases, target, epoch, l_rate):\n",
    "    \n",
    "    cost = np.zeros((epoch,1))    \n",
    "    weights_run = np.copy(weights)\n",
    "    biases_run = np.copy(biases)\n",
    "    \n",
    "    for epoch in np.arange(0,epoch):\n",
    "        # Feed forward \n",
    "        y_hat, a, z = feed_forward(input_feats, weights_run, biases_run, structure) \n",
    "        # Calculating cost value for the network \n",
    "        cost[epoch] = compute_cost(y_hat, target)\n",
    "        # Backpropagation\n",
    "        delta = back_propagation(a, target, structure, weights_run, biases_run, input_feats)\n",
    "        # Update params\n",
    "        weights_run, bias_run = update_params(weights_run, biases_run, delta, structure, input_feats, a, l_rate)\n",
    "        \n",
    "    return cost, weights_run, bias_run"
   ]
  },
  {
   "cell_type": "code",
   "execution_count": 32,
   "metadata": {},
   "outputs": [
    {
     "name": "stdout",
     "output_type": "stream",
     "text": [
      "[[0.12865125 0.13113119 0.13475581 0.12829184 0.11860993 0.13326378\n",
      "  0.12689801 0.12549293 0.12177304 0.11982623]]\n",
      "[[0. 0. 0. 1. 0. 0. 1. 0. 0. 0.]]\n",
      "1.6508508805924371\n",
      "[[0.12518211 0.12785492 0.13135005 0.12483406 0.11538169 0.12986161\n",
      "  0.12333728 0.12201064 0.11851213 0.11656677]]\n",
      "[[0. 0. 0. 1. 0. 0. 1. 0. 0. 0.]]\n",
      "1.6564197228397002\n",
      "[[0.12162424 0.12448476 0.12784828 0.12128779 0.11207215 0.12636474\n",
      "  0.11969194 0.11844422 0.11516661 0.11322519]]\n",
      "[[0. 0. 0. 1. 0. 0. 1. 0. 0. 0.]]\n",
      "1.6623520589060448\n",
      "[[0.1179826  0.12102489 0.12425471 0.11765797 0.10868636 0.12277751\n",
      "  0.11596742 0.11479896 0.11174138 0.10980653]]\n",
      "[[0. 0. 0. 1. 0. 0. 1. 0. 0. 0.]]\n",
      "1.6686566646267451\n",
      "[[0.11426296 0.11748027 0.1205744  0.11395039 0.10523013 0.11910509\n",
      "  0.11216998 0.111081   0.10824209 0.10631663]]\n",
      "[[0. 0. 0. 1. 0. 0. 1. 0. 0. 0.]]\n",
      "1.6753398382022855\n",
      "[[0.11047196 0.11385666 0.11681321 0.11017166 0.10171006 0.11535346\n",
      "  0.10830678 0.10729731 0.10467521 0.10276209]]\n",
      "[[0. 0. 0. 1. 0. 0. 1. 0. 0. 0.]]\n",
      "1.6824050021345103\n",
      "[[0.10661708 0.11016064 0.11297786 0.10632926 0.09813352 0.11152945\n",
      "  0.1043858  0.10345568 0.10104798 0.0991503 ]]\n",
      "[[0. 0. 0. 1. 0. 0. 1. 0. 0. 0.]]\n",
      "1.6898523123817626\n",
      "[[0.10270664 0.10639959 0.10907593 0.10243148 0.09450862 0.10764074\n",
      "  0.1004159  0.09956475 0.09736844 0.09548942]]\n",
      "[[0. 0. 0. 1. 0. 0. 1. 0. 0. 0.]]\n",
      "1.6976782876425631\n",
      "[[0.09874978 0.1025817  0.10511583 0.09848744 0.09084419 0.10369586\n",
      "  0.09640671 0.09563392 0.09364534 0.09178833]]\n",
      "[[0. 0. 0. 1. 0. 0. 1. 0. 0. 0.]]\n",
      "1.705875473173894\n",
      "[[0.09475642 0.09871592 0.10110678 0.09450705 0.08714973 0.0997041\n",
      "  0.09236867 0.09167335 0.08988816 0.0880566 ]]\n",
      "[[0. 0. 0. 1. 0. 0. 1. 0. 0. 0.]]\n",
      "1.7144321546159966\n",
      "[[0.0907372  0.09481194 0.09705877 0.0905009  0.08343537 0.09567556\n",
      "  0.08831286 0.08769386 0.08610702 0.08430441]]\n",
      "[[0. 0. 0. 1. 0. 0. 1. 0. 0. 0.]]\n",
      "1.723332137772348\n",
      "[[0.0867034  0.09088011 0.0929825  0.08648025 0.07971173 0.09162101\n",
      "  0.08425102 0.08370688 0.08231262 0.08054248]]\n",
      "[[0. 0. 0. 1. 0. 0. 1. 0. 0. 0.]]\n",
      "1.732554610030742\n",
      "[[0.08266686 0.08693135 0.08888933 0.0824569  0.0759899  0.08755185\n",
      "  0.08019537 0.07972431 0.07851612 0.076782  ]]\n",
      "[[0. 0. 0. 1. 0. 0. 1. 0. 0. 0.]]\n",
      "1.7420740979827896\n",
      "[[0.07863987 0.08297712 0.08479114 0.07844309 0.07228129 0.08348\n",
      "  0.0761585  0.07575843 0.07472906 0.07303448]]\n",
      "[[0. 0. 0. 1. 0. 0. 1. 0. 0. 0.]]\n",
      "1.7518605337192843\n",
      "[[0.07463503 0.07902924 0.08070024 0.07445136 0.06859748 0.07941779\n",
      "  0.07215326 0.07182176 0.07096324 0.06931164]]\n",
      "[[0. 0. 0. 1. 0. 0. 1. 0. 0. 0.]]\n",
      "1.7618794392206727\n",
      "[[0.07066512 0.07509985 0.07662929 0.07049446 0.06495018 0.07537787\n",
      "  0.06819259 0.06792693 0.06723058 0.0656253 ]]\n",
      "[[0. 0. 0. 1. 0. 0. 1. 0. 0. 0.]]\n",
      "1.7720922342708783\n",
      "[[0.06674294 0.07120119 0.0725911  0.06658513 0.06135098 0.07137301\n",
      "  0.06428936 0.06408647 0.06354299 0.0619872 ]]\n",
      "[[0. 0. 0. 1. 0. 0. 1. 0. 0. 0.]]\n",
      "1.7824566685272851\n",
      "[[0.06288116 0.06734554 0.06859852 0.062736   0.05781128 0.06741599\n",
      "  0.06045618 0.06031272 0.0599122  0.05840891]]\n",
      "[[0. 0. 0. 1. 0. 0. 1. 0. 0. 0.]]\n",
      "1.7929273729931072\n",
      "[[0.05909218 0.06354503 0.06466427 0.05895938 0.05434214 0.06351947\n",
      "  0.05670528 0.05661762 0.05634964 0.0549016 ]]\n",
      "[[0. 0. 0. 1. 0. 0. 1. 0. 0. 0.]]\n",
      "1.8034565204526927\n",
      "[[0.05538789 0.05981151 0.06080082 0.05526713 0.05095407 0.05969576\n",
      "  0.05304828 0.05301255 0.05286628 0.05147598]]\n",
      "[[0. 0. 0. 1. 0. 0. 1. 0. 0. 0.]]\n",
      "1.8139945787996878\n",
      "[[0.0517796  0.05615638 0.05702017 0.05167048 0.04765697 0.05595673\n",
      "  0.04949608 0.04950818 0.04947246 0.04814207]]\n",
      "[[0. 0. 0. 1. 0. 0. 1. 0. 0. 0.]]\n",
      "1.824491136002779\n",
      "[[0.0482778  0.05259049 0.05333373 0.0481799  0.04445997 0.05231361\n",
      "  0.04605864 0.04611434 0.0461778  0.04490916]]\n",
      "[[0. 0. 0. 1. 0. 0. 1. 0. 0. 0.]]\n",
      "1.834895771106662\n",
      "[[0.0448921  0.04912396 0.04975219 0.04480492 0.04137129 0.04877688\n",
      "  0.04274493 0.04283986 0.04299107 0.04178562]]\n",
      "[[0. 0. 0. 1. 0. 0. 1. 0. 0. 0.]]\n",
      "1.84515894251431\n",
      "[[0.04163103 0.04576606 0.04628536 0.04155405 0.03839819 0.0453561\n",
      "  0.03956274 0.03969246 0.03992003 0.03877884]]\n",
      "[[0. 0. 0. 1. 0. 0. 1. 0. 0. 0.]]\n",
      "1.8552328631245476\n",
      "[[0.03850201 0.04252515 0.04294203 0.03843466 0.03554686 0.04205982\n",
      "  0.03651864 0.03667871 0.03697142 0.03589513]]\n",
      "[[0. 0. 0. 1. 0. 0. 1. 0. 0. 0.]]\n",
      "1.8650723318843776\n",
      "[[0.0355112  0.03940852 0.03972992 0.03545287 0.03282238 0.03889549\n",
      "  0.03361788 0.03380389 0.03415085 0.0331397 ]]\n",
      "[[0. 0. 0. 1. 0. 0. 1. 0. 0. 0.]]\n",
      "1.8746354930075977\n",
      "[[0.0326635  0.03642238 0.03665555 0.03261357 0.03022867 0.03586933\n",
      "  0.03086438 0.03107202 0.03146275 0.03051654]]\n",
      "[[0. 0. 0. 1. 0. 0. 1. 0. 0. 0.]]\n",
      "1.883884497420605\n",
      "[[0.02996248 0.03357177 0.03372423 0.0299203  0.02776849 0.03298635\n",
      "  0.02826071 0.02848582 0.02891039 0.02802851]]\n",
      "[[0. 0. 0. 1. 0. 0. 1. 0. 0. 0.]]\n",
      "1.8927860457005816\n",
      "[[0.02741043 0.03086054 0.03093997 0.02737535 0.02544348 0.03025028\n",
      "  0.0258081  0.0260467  0.02649584 0.02567727]]\n",
      "[[0. 0. 0. 1. 0. 0. 1. 0. 0. 0.]]\n",
      "1.9013117975359608\n",
      "[[0.02500831 0.02829136 0.02830551 0.02497968 0.02325412 0.02766354\n",
      "  0.02350651 0.02375487 0.02422002 0.02346339]]\n",
      "[[0. 0. 0. 1. 0. 0. 1. 0. 0. 0.]]\n",
      "1.909438639149939\n",
      "[[0.02275589 0.02586573 0.02582234 0.02273304 0.02119987 0.02522733\n",
      "  0.02135471 0.02160935 0.02208275 0.02138631]]\n",
      "[[0. 0. 0. 1. 0. 0. 1. 0. 0. 0.]]\n",
      "1.9171488067323408\n",
      "[[0.02065173 0.02358401 0.0234907  0.02063405 0.01927918 0.02294162\n",
      "  0.01935032 0.01960806 0.02008279 0.01944449]]\n",
      "[[0. 0. 0. 1. 0. 0. 1. 0. 0. 0.]]\n",
      "1.924429870276119\n",
      "[[0.01869334 0.02144548 0.02130967 0.01868021 0.0174896  0.02080522\n",
      "  0.01748997 0.01774795 0.01821796 0.01763547]]\n",
      "[[0. 0. 0. 1. 0. 0. 1. 0. 0. 0.]]\n",
      "1.9312745879114592\n",
      "[[0.01687725 0.01944838 0.01927724 0.01686808 0.01582786 0.01881588\n",
      "  0.0157694  0.01602508 0.01648519 0.01595595]]\n",
      "[[0. 0. 0. 1. 0. 0. 1. 0. 0. 0.]]\n",
      "1.937680645552096\n",
      "[[0.01519914 0.01759007 0.01739037 0.01519339 0.01429    0.01697038\n",
      "  0.0141836  0.01443477 0.01488067 0.0144019 ]]\n",
      "[[0. 0. 0. 1. 0. 0. 1. 0. 0. 0.]]\n",
      "1.943650300196516\n",
      "[[0.01365396 0.01586705 0.01564517 0.01365111 0.01287144 0.01526461\n",
      "  0.01272691 0.0129717  0.01339989 0.0129687 ]]\n",
      "[[0. 0. 0. 1. 0. 0. 1. 0. 0. 0.]]\n",
      "1.9491899474548253\n",
      "[[0.01223605 0.01427507 0.01403691 0.01223562 0.01156711 0.01369372\n",
      "  0.0113932  0.01163004 0.01203783 0.01165121]]\n",
      "[[0. 0. 0. 1. 0. 0. 1. 0. 0. 0.]]\n",
      "1.9543096348027147\n",
      "[[0.01093928 0.0128093  0.01256024 0.01094084 0.01037157 0.01225222\n",
      "  0.01017597 0.01040359 0.01078901 0.01044389]]\n",
      "[[0. 0. 0. 1. 0. 0. 1. 0. 0. 0.]]\n",
      "1.9590225417954\n",
      "[[0.00975715 0.01146434 0.01120923 0.00976031 0.00927908 0.01093413\n",
      "  0.00906847 0.00928587 0.00964763 0.00934092]]\n",
      "[[0. 0. 0. 1. 0. 0. 1. 0. 0. 0.]]\n",
      "1.9633444471791455\n",
      "[[0.00868295 0.01023443 0.00997755 0.00868735 0.00828372 0.00973304\n",
      "  0.00806381 0.00827028 0.00860765 0.0083363 ]]\n",
      "[[0. 0. 0. 1. 0. 0. 1. 0. 0. 0.]]\n",
      "1.967293200737327\n",
      "[[0.00770981 0.00911345 0.00885852 0.00771516 0.00737947 0.00864227\n",
      "  0.00715507 0.00735011 0.0076629  0.0074239 ]]\n",
      "[[0. 0. 0. 1. 0. 0. 1. 0. 0. 0.]]\n",
      "1.9708882150463811\n",
      "[[0.00683087 0.00809512 0.0078453  0.0068369  0.0065603  0.007655\n",
      "  0.00633541 0.00651873 0.00680716 0.00659759]]\n",
      "[[0. 0. 0. 1. 0. 0. 1. 0. 0. 0.]]\n",
      "1.9741499893376824\n",
      "[[0.00603929 0.007173   0.00693092 0.00604577 0.00582021 0.00676429\n",
      "  0.0055981  0.00576959 0.00603425 0.00585131]]\n",
      "[[0. 0. 0. 1. 0. 0. 1. 0. 0. 0.]]\n",
      "1.9770996745876763\n",
      "[[0.00532839 0.00634066 0.00610842 0.00533513 0.00515334 0.00596325\n",
      "  0.0049366  0.0050963  0.00533808 0.00517908]]\n",
      "[[0. 0. 0. 1. 0. 0. 1. 0. 0. 0.]]\n",
      "1.9797586859794647\n",
      "[[0.00469166 0.00559167 0.00537091 0.0046985  0.00455399 0.00524508\n",
      "  0.00434464 0.00449272 0.0047127  0.00457512]]\n",
      "[[0. 0. 0. 1. 0. 0. 1. 0. 0. 0.]]\n",
      "1.9821483661416475\n",
      "[[0.00412287 0.00491974 0.00471165 0.00412968 0.00401666 0.00460314\n",
      "  0.00381621 0.00395296 0.00415237 0.00403386]]\n",
      "[[0. 0. 0. 1. 0. 0. 1. 0. 0. 0.]]\n",
      "1.9842897001771356\n",
      "[[0.00361605 0.00431874 0.00412412 0.00362272 0.00353609 0.00403102\n",
      "  0.00334564 0.00347141 0.0036516  0.00354995]]\n",
      "[[0. 0. 0. 1. 0. 0. 1. 0. 0. 0.]]\n",
      "1.9862030815056408\n",
      "[[0.00316554 0.00378273 0.00360203 0.003172   0.00310731 0.00352256\n",
      "  0.00292757 0.0030428  0.00320515 0.00311834]]\n",
      "[[0. 0. 0. 1. 0. 0. 1. 0. 0. 0.]]\n",
      "1.987908125980767\n",
      "[[0.00276606 0.00330606 0.00313942 0.00277223 0.00272559 0.00307194\n",
      "  0.00255699 0.00266216 0.00280808 0.00273426]]\n",
      "[[0. 0. 0. 1. 0. 0. 1. 0. 0. 0.]]\n",
      "1.989423530597449\n",
      "[[0.00241262 0.00288332 0.00273064 0.00241847 0.00238653 0.00267364\n",
      "  0.00222925 0.00232487 0.00245574 0.00239323]]\n",
      "[[0. 0. 0. 1. 0. 0. 1. 0. 0. 0.]]\n",
      "1.9907669723463237\n",
      "[[0.00210062 0.00250944 0.00237039 0.00210612 0.00208602 0.00232249\n",
      "  0.00194003 0.00202664 0.00214379 0.00209108]]\n",
      "[[0. 0. 0. 1. 0. 0. 1. 0. 0. 0.]]\n",
      "1.991955042351537\n",
      "[[0.0018258  0.00217964 0.00205373 0.00183093 0.00182022 0.00201369\n",
      "  0.00168536 0.00176351 0.00186821 0.00182394]]\n",
      "[[0. 0. 0. 1. 0. 0. 1. 0. 0. 0.]]\n",
      "1.9930032102920663\n",
      "[[0.00158423 0.00188946 0.00177607 0.00158899 0.00158561 0.00174278\n",
      "  0.00146159 0.00153184 0.00162528 0.00158825]]\n",
      "[[0. 0. 0. 1. 0. 0. 1. 0. 0. 0.]]\n",
      "1.9939258141957454\n",
      "[[0.00137233 0.00163479 0.00153321 0.00137671 0.00137895 0.00150567\n",
      "  0.00126537 0.00132828 0.00141156 0.00138071]]\n",
      "[[0. 0. 0. 1. 0. 0. 1. 0. 0. 0.]]\n",
      "1.9947360709532733\n",
      "[[0.00118683 0.00141182 0.00132127 0.00119084 0.00119726 0.00129861\n",
      "  0.00109367 0.00114979 0.00122393 0.00119832]]\n",
      "[[0. 0. 0. 1. 0. 0. 1. 0. 0. 0.]]\n",
      "1.9954461032748234\n",
      "[[0.00102476 0.00121708 0.00113673 0.00102841 0.00103783 0.00111819\n",
      "  0.00094374 0.00099359 0.00105953 0.00103835]]\n",
      "[[0. 0. 0. 1. 0. 0. 1. 0. 0. 0.]]\n",
      "1.996066979259291\n",
      "[[0.00088343 0.00104736 0.00097639 0.00088674 0.00089821 0.00096131\n",
      "  0.00081307 0.00085718 0.00091576 0.0008983 ]]\n",
      "[[0. 0. 0. 1. 0. 0. 1. 0. 0. 0.]]\n",
      "1.9966087612282644\n",
      "[[0.00076041 0.0008998  0.00083737 0.0007634  0.00077615 0.00082517\n",
      "  0.00069943 0.00073829 0.00079027 0.00077592]]\n",
      "[[0. 0. 0. 1. 0. 0. 1. 0. 0. 0.]]\n",
      "1.9970805609636832\n",
      "[[0.00065354 0.00077176 0.00071708 0.00065623 0.00066964 0.00070727\n",
      "  0.00060077 0.00063486 0.00068093 0.00066918]]\n",
      "[[0. 0. 0. 1. 0. 0. 1. 0. 0. 0.]]\n",
      "1.9974905989575569\n",
      "[[0.00056087 0.0006609  0.0006132  0.00056326 0.00057687 0.00060535\n",
      "  0.00051529 0.00054507 0.00058584 0.00057624]]\n",
      "[[0. 0. 0. 1. 0. 0. 1. 0. 0. 0.]]\n",
      "1.9978462657184213\n",
      "[[0.00048064 0.00056511 0.00052365 0.00048277 0.00049621 0.0005174\n",
      "  0.00044138 0.00046727 0.00050329 0.00049547]]\n",
      "[[0. 0. 0. 1. 0. 0. 1. 0. 0. 0.]]\n",
      "1.9981541835725436\n",
      "[[0.00041132 0.0004825  0.00044659 0.00041321 0.0004262  0.00044165\n",
      "  0.00037757 0.00039998 0.00043176 0.0004254 ]]\n",
      "[[0. 0. 0. 1. 0. 0. 1. 0. 0. 0.]]\n",
      "1.9984202677431393\n",
      "[[0.00035152 0.00041138 0.00038039 0.00035318 0.00036553 0.00037651\n",
      "  0.00032259 0.0003419  0.00036986 0.00036471]]\n",
      "[[0. 0. 0. 1. 0. 0. 1. 0. 0. 0.]]\n",
      "1.998649785786724\n",
      "[[0.00030002 0.00035028 0.00032362 0.00030148 0.00031306 0.00032059\n",
      "  0.00027529 0.00029185 0.00031641 0.00031223]]\n",
      "[[0. 0. 0. 1. 0. 0. 1. 0. 0. 0.]]\n",
      "1.9988474147136124\n",
      "[[0.00025575 0.00029786 0.000275   0.00025702 0.00026775 0.00027266\n",
      "  0.00023468 0.00024881 0.00027032 0.00026694]]\n",
      "[[0. 0. 0. 1. 0. 0. 1. 0. 0. 0.]]\n",
      "1.9990172953229894\n",
      "[[0.00021775 0.00025298 0.00023344 0.00021886 0.00022869 0.00023164\n",
      "  0.00019986 0.00021185 0.00023064 0.00022791]]\n",
      "[[0. 0. 0. 1. 0. 0. 1. 0. 0. 0.]]\n",
      "1.9991630834465237\n",
      "[[0.00018518 0.00021461 0.00019796 0.00018614 0.00019507 0.00019658\n",
      "  0.00017004 0.00018018 0.00019654 0.00019433]]\n",
      "[[0. 0. 0. 1. 0. 0. 1. 0. 0. 0.]]\n",
      "1.999287997923458\n",
      "[[0.00015731 0.00018185 0.0001677  0.00015814 0.00016618 0.00016666\n",
      "  0.00014456 0.00015308 0.00016727 0.00016549]]\n",
      "[[0. 0. 0. 1. 0. 0. 1. 0. 0. 0.]]\n",
      "1.9993948652299376\n",
      "[[0.0001335  0.00015393 0.00014194 0.00013422 0.00014139 0.00014116\n",
      "  0.0001228  0.00012992 0.0001422  0.00014076]]\n",
      "[[0. 0. 0. 1. 0. 0. 1. 0. 0. 0.]]\n",
      "1.9994861607611354\n",
      "[[0.00011319 0.00013016 0.00012004 0.0001138  0.00012016 0.00011945\n",
      "  0.00010425 0.00011017 0.00012075 0.00011958]]\n",
      "[[0. 0. 0. 1. 0. 0. 1. 0. 0. 0.]]\n",
      "1.9995640468212823\n",
      "[[9.58844382e-05 1.09963722e-04 1.01430180e-04 9.64014167e-05\n",
      "  1.02002270e-04 1.01002654e-04 8.84442720e-05 9.33439309e-05\n",
      "  1.02417523e-04 1.01476529e-04]]\n",
      "[[0. 0. 0. 1. 0. 0. 1. 0. 0. 0.]]\n",
      "1.9996304074180882\n",
      "[[8.11585955e-05 9.28152192e-05 8.56444571e-05 8.15959986e-05\n",
      "  8.64924103e-05 8.53347236e-05 7.49993869e-05 7.90301908e-05\n",
      "  8.67818013e-05 8.60210528e-05]]\n",
      "[[0. 0. 0. 1. 0. 0. 1. 0. 0. 0.]]\n",
      "1.999686879987631\n",
      "[[6.86440556e-05 7.82753438e-05 7.22659421e-05 6.90123162e-05\n",
      "  7.32650684e-05 7.20452327e-05 6.35708846e-05 6.68683441e-05\n",
      "  7.34610510e-05 7.28458266e-05]]\n",
      "[[0. 0. 0. 1. 0. 0. 1. 0. 0. 0.]]\n",
      "1.9997348841964515\n",
      "[[5.80210860e-05 6.59615920e-05 6.09389660e-05 5.83295835e-05\n",
      "  6.19999842e-05 6.07849534e-05 5.38644904e-05 5.65465661e-05\n",
      "  6.21275100e-05 6.16298923e-05]]\n",
      "[[0. 0. 0. 1. 0. 0. 1. 0. 0. 0.]]\n",
      "1.9997756479813513\n",
      "[[4.90135078e-05 5.55445955e-05 5.13579856e-05 4.92706218e-05\n",
      "  5.24188850e-05 5.12534663e-05 4.56267618e-05 4.77954531e-05\n",
      "  5.24969677e-05 5.20945174e-05]]\n",
      "[[0. 0. 0. 1. 0. 0. 1. 0. 0. 0.]]\n",
      "1.9998102309960135\n",
      "[[4.13832790e-05 4.67413211e-05 4.32610015e-05 4.15964494e-05\n",
      "  4.42804857e-05 4.31928192e-05 3.86399064e-05 4.03828258e-05\n",
      "  4.43234761e-05 4.39981503e-05]]\n",
      "[[0. 0. 0. 1. 0. 0. 1. 0. 0. 0.]]\n",
      "1.9998395456381115\n",
      "[[3.49256626e-05 3.93090305e-05 3.64237481e-05 3.51014540e-05\n",
      "  3.73760059e-05 3.63819191e-05 3.27171577e-05 3.41090646e-05\n",
      "  3.73946237e-05 3.71318977e-05]]\n",
      "[[0. 0. 0. 1. 0. 0. 1. 0. 0. 0.]]\n",
      "1.999864375832031\n",
      "[[2.94649305e-05 3.30399338e-05 3.06545827e-05 2.96090997e-05\n",
      "  3.15251620e-05 3.06315924e-05 2.76986696e-05 2.88029380e-05\n",
      "  3.15273227e-05 3.13154831e-05]]\n",
      "[[0. 0. 0. 1. 0. 0. 1. 0. 0. 0.]]\n",
      "1.9998853937412497\n",
      "[[2.48505559e-05 2.77564768e-05 2.57900039e-05 2.49681201e-05\n",
      "  2.65725927e-05 2.57802448e-05 2.34478845e-05 2.43178874e-05\n",
      "  2.65640661e-05 2.63936443e-05]]\n",
      "[[0. 0. 0. 1. 0. 0. 1. 0. 0. 0.]]\n",
      "1.9999031745812892\n",
      "[[2.09538484e-05 2.33072011e-05 2.16907343e-05 2.10491536e-05\n",
      "  2.23846811e-05 2.16900605e-05 1.98483354e-05 2.05287324e-05\n",
      "  2.23696107e-05 2.22329309e-05]]\n",
      "[[0. 0. 0. 1. 0. 0. 1. 0. 0. 0.]]\n",
      "1.9999182096993418\n",
      "[[1.76649896e-05 1.95631194e-05 1.82383057e-05 1.77417774e-05\n",
      "  1.88467365e-05 1.82436826e-05 1.68008412e-05 1.73287601e-05\n",
      "  1.88280457e-05 1.87188662e-05]]\n",
      "[[0. 0. 0. 1. 0. 0. 1. 0. 0. 0.]]\n",
      "1.999930918080448\n",
      "[[1.48904312e-05 1.64145526e-05 1.53320913e-05 1.49519031e-05\n",
      "  1.58605022e-05 1.53413225e-05 1.42210566e-05 1.46271654e-05\n",
      "  1.58402089e-05 1.57534384e-05]]\n",
      "[[0. 0. 0. 1. 0. 0. 1. 0. 0. 0.]]\n",
      "1.999941656432743\n",
      "[[1.25506163e-05 1.37683773e-05 1.28867314e-05 1.25994951e-05\n",
      "  1.33419579e-05 1.28982475e-05 1.20373403e-05 1.23468074e-05\n",
      "  1.33214163e-05 1.32528891e-05]]\n",
      "[[0. 0. 0. 1. 0. 0. 1. 0. 0. 0.]]\n",
      "1.999950727996033\n",
      "[[1.05779925e-05 1.15456376e-05 1.08299085e-05 1.06165797e-05\n",
      "  1.12193868e-05 1.08426048e-05 1.01889061e-05 1.04222525e-05\n",
      "  1.11994711e-05 1.11457698e-05]]\n",
      "[[0. 0. 0. 1. 0. 0. 1. 0. 0. 0.]]\n",
      "1.9999583902090183\n",
      "[[8.91528301e-06 9.67947875e-06 9.10042617e-06 8.94551230e-06\n",
      "  9.43168101e-06 9.11353953e-06 8.62422526e-06 8.79807275e-06\n",
      "  9.41292330e-06 9.37123868e-06]]\n",
      "[[0. 0. 0. 1. 0. 0. 1. 0. 0. 0.]]\n",
      "1.9999648613611\n",
      "[[7.51398782e-06 8.11336318e-06 7.64655628e-06 7.53747354e-06\n",
      "  7.92685911e-06 7.65957176e-06 7.29965000e-06 7.42737176e-06\n",
      "  7.90955266e-06 7.87757188e-06]]\n",
      "[[0. 0. 0. 1. 0. 0. 1. 0. 0. 0.]]\n",
      "1.9999703263450714\n",
      "[[6.33308786e-06 6.79953477e-06 6.42461862e-06 6.35116958e-06\n",
      "  6.66077378e-06 6.43719996e-06 6.17823139e-06 6.27051295e-06\n",
      "  6.64504844e-06 6.62086636e-06]]\n",
      "[[0. 0. 0. 1. 0. 0. 1. 0. 0. 0.]]\n",
      "1.9999749416173078\n",
      "[[5.33792832e-06 5.69769942e-06 5.39776369e-06 5.35171056e-06\n",
      "  5.59598768e-06 5.40970170e-06 5.22870660e-06 5.29402508e-06\n",
      "  5.58186485e-06 5.56391269e-06]]\n",
      "[[0. 0. 0. 1. 0. 0. 1. 0. 0. 0.]]\n",
      "1.999978839462482\n",
      "[[4.49925869e-06 4.77389397e-06 4.53493132e-06 4.50964628e-06\n",
      "  4.70079871e-06 4.54610596e-06 4.42463351e-06 4.46966381e-06\n",
      "  4.68823058e-06 4.67521828e-06]]\n",
      "[[0. 0. 0. 1. 0. 0. 1. 0. 0. 0.]]\n",
      "1.9999821316505264\n",
      "[[3.79240997e-06 3.99951881e-06 3.80996153e-06 3.80013927e-06\n",
      "  3.94839689e-06 3.82031436e-06 3.74365277e-06 3.77360925e-06\n",
      "  3.93729408e-06 3.92816329e-06]]\n",
      "[[0. 0. 0. 1. 0. 0. 1. 0. 0. 0.]]\n",
      "1.9999849125646112\n",
      "[[3.19659117e-06 3.35051195e-06 3.20083681e-06 3.20225737e-06\n",
      "  3.31613714e-06 3.21035119e-06 3.16686003e-06 3.18578149e-06\n",
      "  3.30638776e-06 3.30027327e-06]]\n",
      "[[0. 0. 0. 1. 0. 0. 1. 0. 0. 0.]]\n",
      "1.9999872618704546\n",
      "[[2.69428938e-06 2.80664523e-06 2.68903752e-06 2.69837008e-06\n",
      "  2.78491366e-06 2.69772442e-06 2.67827249e-06 2.68925844e-06\n",
      "  2.77639612e-06 2.77259386e-06]]\n",
      "[[0. 0. 0. 1. 0. 0. 1. 0. 0. 0.]]\n",
      "1.99998924678934\n",
      "[[2.27075913e-06 2.35092582e-06 2.25899436e-06 2.27363471e-06\n",
      "  2.33862299e-06 2.26688249e-06 2.26437669e-06 2.26978148e-06\n",
      "  2.33121439e-06 2.32915480e-06]]\n",
      "[[0. 0. 0. 1. 0. 0. 1. 0. 0. 0.]]\n",
      "1.9999909240298965\n",
      "[[1.91358883e-06 1.96908798e-06 1.89762418e-06 1.91555982e-06\n",
      "  1.96370445e-06 1.90475306e-06 1.91374535e-06 1.91533681e-06\n",
      "  1.95728582e-06 1.95651139e-06]]\n",
      "[[0. 0. 0. 1. 0. 0. 1. 0. 0. 0.]]\n",
      "1.9999923414269531\n",
      "[[1.61233332e-06 1.64916220e-06 1.59393692e-06 1.61363509e-06\n",
      "  1.64874759e-06 1.60035217e-06 1.61671326e-06 1.61580130e-06\n",
      "  1.64320695e-06 1.64335338e-06]]\n",
      "[[0. 0. 0. 1. 0. 0. 1. 0. 0. 0.]]\n",
      "1.99999353932968\n",
      "[[1.35820293e-06 1.38111060e-06 1.33870331e-06 1.35901809e-06\n",
      "  1.38415775e-06 1.34445345e-06 1.36510338e-06 1.36264347e-06\n",
      "  1.37939168e-06 1.38017191e-06]]\n",
      "[[0. 0. 0. 1. 0. 0. 1. 0. 0. 0.]]\n",
      "1.9999945517757074\n",
      "[[1.14380089e-06 1.15651870e-06 1.12417432e-06 1.14426961e-06\n",
      "  1.16187162e-06 1.12930864e-06 1.15199548e-06 1.14867138e-06\n",
      "  1.15778593e-06 1.15897655e-06]]\n",
      "[[0. 0. 0. 1. 0. 0. 1. 0. 0. 0.]]\n",
      "1.9999954074829978\n",
      "[[9.62901768e-07 9.68335316e-07 9.43844458e-07 9.63130388e-07\n",
      "  9.75115934e-07 9.48411676e-07 9.71530822e-07 9.67820197e-07\n",
      "  9.71625626e-07 9.73055508e-07]]\n",
      "[[0. 0. 0. 1. 0. 0. 1. 0. 0. 0.]]\n",
      "1.9999961306868843\n",
      "[[8.10264880e-07 8.10653307e-07 7.92252524e-07 8.10332951e-07\n",
      "  8.18203037e-07 7.96299905e-07 8.18747434e-07 8.14973491e-07\n",
      "  8.15231989e-07 8.16772498e-07]]\n",
      "[[0. 0. 0. 1. 0. 0. 1. 0. 0. 0.]]\n",
      "1.999996741845797\n",
      "[[6.81477185e-07 6.78524931e-07 6.64813819e-07 6.81443267e-07\n",
      "  6.86358033e-07 6.68386663e-07 6.89441113e-07 6.85812902e-07\n",
      "  6.83838427e-07 6.85395280e-07]]\n",
      "[[0. 0. 0. 1. 0. 0. 1. 0. 0. 0.]]\n",
      "1.9999972582358725\n"
     ]
    }
   ],
   "source": [
    "epoch = 100\n",
    "epochs = range(epoch)\n",
    "# Normalising inputs to ensure stability\n",
    "norm_input = (input_feats)/np.max(input_feats)\n",
    "cost, weights_run , bias_run = train(norm_input, test_weights, test_biases, target, epoch, l_rate = 0.1)\n",
    "\n"
   ]
  },
  {
   "cell_type": "code",
   "execution_count": 33,
   "metadata": {},
   "outputs": [
    {
     "data": {
      "text/plain": [
       "Text(0, 0.5, 'Cost')"
      ]
     },
     "execution_count": 33,
     "metadata": {},
     "output_type": "execute_result"
    },
    {
     "data": {
      "image/png": "[encoded data removed]",
      "text/plain": [
       "<Figure size 1440x720 with 1 Axes>"
      ]
     },
     "metadata": {
      "needs_background": "light"
     },
     "output_type": "display_data"
    }
   ],
   "source": [
    "plt.rcParams[\"figure.figsize\"] = (20,10)\n",
    "plt.scatter(epochs,cost)\n",
    "plt.xlabel('Epoch')\n",
    "plt.ylabel('Cost')"
   ]
  },
  {
   "cell_type": "code",
   "execution_count": null,
   "metadata": {},
   "outputs": [],
   "source": []
  },
  {
   "cell_type": "code",
   "execution_count": null,
   "metadata": {},
   "outputs": [],
   "source": [
    "print (weights_run)\n",
    "print (bias_run)"
   ]
  },
  {
   "cell_type": "code",
   "execution_count": null,
   "metadata": {},
   "outputs": [],
   "source": [
    "# Testing on data"
   ]
  },
  {
   "cell_type": "code",
   "execution_count": null,
   "metadata": {},
   "outputs": [],
   "source": [
    "test_row = 2780\n",
    "test = test_data[test_row,:]\n",
    "test_point = test_data[test_row,(0,1)] \n",
    "print (\"Test point = (%s, %s), Expected output = %s\" %(test_data[test_row,0],test_data[test_row,1],test_data[test_row,2]))"
   ]
  },
  {
   "cell_type": "code",
   "execution_count": null,
   "metadata": {},
   "outputs": [],
   "source": [
    "# test_features \n",
    "test_feats = test_data[:,(0,1)]\n",
    "norm_test_feats = test_feats/np.max(test_feats)\n",
    "test_target = test_data[:,2]\n"
   ]
  },
  {
   "cell_type": "code",
   "execution_count": null,
   "metadata": {},
   "outputs": [],
   "source": [
    "# Forward propagating\n",
    "a = np.dot(norm_test_feats, weights_run) + bias_run\n",
    "\n",
    "# Activation function \n",
    "z_train = sigmoid(a)"
   ]
  },
  {
   "cell_type": "code",
   "execution_count": null,
   "metadata": {},
   "outputs": [],
   "source": [
    "test_target = test_target.reshape(len(test_feats),1)\n",
    "#z_train = z_train.reshape(9000,1)\n",
    "print (np.concatenate([test_target,z_train,test_target - z_train],axis=1))"
   ]
  },
  {
   "cell_type": "code",
   "execution_count": null,
   "metadata": {},
   "outputs": [],
   "source": [
    "round_train = np.round(z_train)\n",
    "error = (test_target - z_train)\n",
    "round_error = (np.round(error))\n",
    "MSE = np.sum(pow(round_error,2))/len(test_data)\n",
    "MAE = np.mean(abs(round_error))\n",
    "print (\"MSE = %s\"%(MSE))\n",
    "print (\"MAE = %s\"%(MAE))"
   ]
  },
  {
   "cell_type": "code",
   "execution_count": null,
   "metadata": {},
   "outputs": [],
   "source": [
    "# Getting correct predictions\n",
    "correct = test_target[(test_target==round_train)]\n",
    "incorrect = test_target[(test_target!=round_train)]\n",
    "accuracy = (len(correct)/len(test_target))*100\n",
    "print (\"Accuracy = %s percent\"%(accuracy))"
   ]
  },
  {
   "cell_type": "code",
   "execution_count": null,
   "metadata": {},
   "outputs": [],
   "source": []
  },
  {
   "cell_type": "code",
   "execution_count": null,
   "metadata": {},
   "outputs": [],
   "source": []
  },
  {
   "cell_type": "code",
   "execution_count": null,
   "metadata": {},
   "outputs": [],
   "source": []
  },
  {
   "cell_type": "code",
   "execution_count": null,
   "metadata": {},
   "outputs": [],
   "source": []
  },
  {
   "cell_type": "code",
   "execution_count": null,
   "metadata": {},
   "outputs": [],
   "source": []
  }
 ],
 "metadata": {
  "kernelspec": {
   "display_name": "Python 3",
   "language": "python",
   "name": "python3"
  },
  "language_info": {
   "codemirror_mode": {
    "name": "ipython",
    "version": 3
   },
   "file_extension": ".py",
   "mimetype": "text/x-python",
   "name": "python",
   "nbconvert_exporter": "python",
   "pygments_lexer": "ipython3",
   "version": "3.7.3"
  }
 },
 "nbformat": 4,
 "nbformat_minor": 2
}
