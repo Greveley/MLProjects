{
 "cells": [
  {
   "cell_type": "code",
   "execution_count": 269,
   "metadata": {},
   "outputs": [],
   "source": [
    "# This code will implement a baseline, very simple, Perceptron with the hope to make it more complex in the future"
   ]
  },
  {
   "cell_type": "code",
   "execution_count": null,
   "metadata": {},
   "outputs": [],
   "source": []
  },
  {
   "cell_type": "code",
   "execution_count": 357,
   "metadata": {},
   "outputs": [],
   "source": [
    "import numpy as np \n",
    "import matplotlib.pyplot as plt"
   ]
  },
  {
   "cell_type": "code",
   "execution_count": 358,
   "metadata": {},
   "outputs": [
    {
     "data": {
      "text/plain": [
       "'In general there are X stages we go through to make a fully functional neural network:\\n1) Initialise the network \\n2) Forward Propagate\\n3) Back Propagate the error\\n4) Train Network (i.e. update the weights with training data)\\n5) Predict on test data\\n'"
      ]
     },
     "execution_count": 358,
     "metadata": {},
     "output_type": "execute_result"
    }
   ],
   "source": [
    "# Very simple neural network that works on classifying things from the wheat and seeds dataset \n",
    "\"\"\"In general there are X stages we go through to make a fully functional neural network:\n",
    "1) Initialise the network \n",
    "2) Forward Propagate\n",
    "3) Back Propagate the error\n",
    "4) Train Network (i.e. update the weights with training data)\n",
    "5) Predict on test data\n",
    "\"\"\"\n"
   ]
  },
  {
   "cell_type": "code",
   "execution_count": 359,
   "metadata": {},
   "outputs": [
    {
     "name": "stdout",
     "output_type": "stream",
     "text": [
      "(4, 2)\n"
     ]
    },
    {
     "data": {
      "text/plain": [
       "array([[0, 0],\n",
       "       [0, 1],\n",
       "       [1, 0],\n",
       "       [1, 1]])"
      ]
     },
     "execution_count": 359,
     "metadata": {},
     "output_type": "execute_result"
    }
   ],
   "source": [
    "# define input features, 2 input features i.e. 2 input neurons\n",
    "input_feats = np.array([[0,0],[0,1],[1,0],[1,1]])\n",
    "print (input_feats.shape)\n",
    "input_feats\n"
   ]
  },
  {
   "cell_type": "code",
   "execution_count": 360,
   "metadata": {},
   "outputs": [
    {
     "name": "stdout",
     "output_type": "stream",
     "text": [
      "(4, 1)\n",
      "[[0]\n",
      " [1]\n",
      " [1]\n",
      " [1]]\n"
     ]
    }
   ],
   "source": [
    "# Defining expected outputs\n",
    "target = np.array([0,1,1,1])\n",
    "# Ensures \n",
    "target = target.reshape(input_feats.shape[0],1)\n",
    "print (target.shape)\n",
    "print (target)"
   ]
  },
  {
   "cell_type": "code",
   "execution_count": 361,
   "metadata": {},
   "outputs": [
    {
     "name": "stdout",
     "output_type": "stream",
     "text": [
      "(2, 1)\n"
     ]
    },
    {
     "data": {
      "text/plain": [
       "array([[0.1],\n",
       "       [0.2]])"
      ]
     },
     "execution_count": 361,
     "metadata": {},
     "output_type": "execute_result"
    }
   ],
   "source": [
    "# Create weights \n",
    "weights = np.array([[0.1],[0.2]])\n",
    "print (weights.shape)\n",
    "weights"
   ]
  },
  {
   "cell_type": "code",
   "execution_count": 362,
   "metadata": {},
   "outputs": [],
   "source": [
    "# Defining bias \n",
    "bias = 0.3"
   ]
  },
  {
   "cell_type": "code",
   "execution_count": 363,
   "metadata": {},
   "outputs": [],
   "source": [
    "# Defining learning rate \n",
    "l_rate = 0.05"
   ]
  },
  {
   "cell_type": "code",
   "execution_count": 364,
   "metadata": {},
   "outputs": [],
   "source": [
    "# Sigmoid activation function \n",
    "def sigmoid(X): \n",
    "    out = 1/(1+np.exp(-X))\n",
    "    return out "
   ]
  },
  {
   "cell_type": "code",
   "execution_count": 365,
   "metadata": {},
   "outputs": [],
   "source": [
    "# Derivative of sigmoid activation function (used in the gradient descent back propagation)\n",
    "def sigmoid_der(X):  \n",
    "    out = sigmoid(X)*(1-sigmoid(X))\n",
    "    return out"
   ]
  },
  {
   "cell_type": "code",
   "execution_count": null,
   "metadata": {},
   "outputs": [],
   "source": []
  },
  {
   "cell_type": "code",
   "execution_count": 401,
   "metadata": {},
   "outputs": [],
   "source": [
    "def train(input_feats, weights, bias, target, l_rate, epoch):\n",
    "    \n",
    "    cost = np.zeros((epoch,1))\n",
    "    \n",
    "    weights_run = weights*2\n",
    "    bias_run = bias\n",
    "    \n",
    "    for epoch in np.arange(0,epoch):\n",
    "        # Feed forward\n",
    "        a = np.dot(input_feats,weights_run)+bias_run\n",
    "        # Pass through activation\n",
    "        z = sigmoid(a)\n",
    "        # Calculating cost value for the network \n",
    "        cost[epoch] = np.sum((z-target))\n",
    "        # Calculating the error vector \n",
    "        error = z - target\n",
    "        # Calculating deriv\n",
    "        deriv = (error * sigmoid_der(z))\n",
    "        # Calculating dError/dWeights\n",
    "        dE_dw = np.dot(input_feats.T,deriv)\n",
    "        # Updating weights \n",
    "        weights_run -=(l_rate * dE_dw)\n",
    "        # Updating bias\n",
    "        for i in deriv:\n",
    "            bias_run -= l_rate * i\n",
    "        \n",
    "    return cost, weights_run, bias_run"
   ]
  },
  {
   "cell_type": "code",
   "execution_count": 402,
   "metadata": {},
   "outputs": [
    {
     "data": {
      "text/plain": [
       "<matplotlib.collections.PathCollection at 0x121641a58>"
      ]
     },
     "execution_count": 402,
     "metadata": {},
     "output_type": "execute_result"
    },
    {
     "data": {
      "image/png": "[encoded data removed]",
      "text/plain": [
       "<Figure size 432x288 with 1 Axes>"
      ]
     },
     "metadata": {
      "needs_background": "light"
     },
     "output_type": "display_data"
    }
   ],
   "source": [
    "epoch = 100000\n",
    "epochs = range(epoch)\n",
    "cost, weights_run , bias_run = train(input_feats, weights, bias, target, 0.005, epoch)\n",
    "weights_run\n",
    "plt.scatter(epochs,cost)"
   ]
  },
  {
   "cell_type": "code",
   "execution_count": 403,
   "metadata": {},
   "outputs": [
    {
     "name": "stdout",
     "output_type": "stream",
     "text": [
      "[[16.94132475]\n",
      " [16.9414661 ]]\n",
      "[-4.79079861]\n"
     ]
    }
   ],
   "source": [
    "print (weights_run)\n",
    "print (bias_run)"
   ]
  },
  {
   "cell_type": "code",
   "execution_count": 404,
   "metadata": {},
   "outputs": [],
   "source": [
    "# Testing on data"
   ]
  },
  {
   "cell_type": "code",
   "execution_count": 405,
   "metadata": {},
   "outputs": [],
   "source": [
    "single_point = np.array([1,0]) # target value = 1"
   ]
  },
  {
   "cell_type": "code",
   "execution_count": 406,
   "metadata": {},
   "outputs": [],
   "source": [
    "a = np.dot(single_point, weights_run) + bias_run"
   ]
  },
  {
   "cell_type": "code",
   "execution_count": 407,
   "metadata": {},
   "outputs": [
    {
     "data": {
      "text/plain": [
       "array([0.99999471])"
      ]
     },
     "execution_count": 407,
     "metadata": {},
     "output_type": "execute_result"
    }
   ],
   "source": [
    "z = sigmoid(a)\n",
    "z"
   ]
  },
  {
   "cell_type": "raw",
   "metadata": {},
   "source": [
    "single_point = np.array([0,0]) # target value = 0"
   ]
  },
  {
   "cell_type": "code",
   "execution_count": 408,
   "metadata": {},
   "outputs": [],
   "source": [
    "single_point = np.array([0,0]) # target value = 0"
   ]
  },
  {
   "cell_type": "code",
   "execution_count": 409,
   "metadata": {},
   "outputs": [],
   "source": [
    "a = np.dot(single_point, weights_run) + bias_run"
   ]
  },
  {
   "cell_type": "code",
   "execution_count": 410,
   "metadata": {},
   "outputs": [
    {
     "data": {
      "text/plain": [
       "array([0.0082374])"
      ]
     },
     "execution_count": 410,
     "metadata": {},
     "output_type": "execute_result"
    }
   ],
   "source": [
    "z = sigmoid(a)\n",
    "z"
   ]
  },
  {
   "cell_type": "code",
   "execution_count": null,
   "metadata": {},
   "outputs": [],
   "source": []
  }
 ],
 "metadata": {
  "kernelspec": {
   "display_name": "Python 3",
   "language": "python",
   "name": "python3"
  },
  "language_info": {
   "codemirror_mode": {
    "name": "ipython",
    "version": 3
   },
   "file_extension": ".py",
   "mimetype": "text/x-python",
   "name": "python",
   "nbconvert_exporter": "python",
   "pygments_lexer": "ipython3",
   "version": "3.7.3"
  }
 },
 "nbformat": 4,
 "nbformat_minor": 2
}
